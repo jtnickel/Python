{
 "cells": [
  {
   "cell_type": "markdown",
   "id": "7c38f4ba",
   "metadata": {},
   "source": [
    "# BMI Calculator\n",
    "\n",
    "- This Calculator was built using the CDC's BMI formula and classifications (for adults 20 years or older)\n",
    "- The formula is as follows: weight (lb) / [height (in) x height (in)] x 703\n",
    "- Source: https://www.cdc.gov/healthyweight/assessing/bmi/adult_bmi/index.html\n",
    "\n",
    "Below 18.5 -> Underweight\n",
    "18.5 – 24.9 -> healthy Weight\n",
    "25.0 – 29.9 -> Overweight\n",
    "30.0 and Above -> Obesity"

   ]
  },
  {
   "cell_type": "code",
   "execution_count": 27,
   "id": "f9368e2c",
   "metadata": {},
   "outputs": [
    {
     "name": "stdout",
     "output_type": "stream",
     "text": [
      "Please enter your name:JT\n",
      "Enter your weight (lb.):180\n",
      "Enter your height (in.):72\n",
      "Your BMI is: 24.409722222222225\n",
      "JT, you are a healthy weight.\n"
     ]
    }
   ],
   "source": [
    "name = input(\"Please enter your name:\")\n",
    "\n",
    "weight = int(input(\"Enter your weight (lb.):\"))\n",
    "\n",
    "height = int(input(\"Enter your height (in.):\"))\n",
    "\n",
    "BMI = (weight / (height**2)) * 703\n",
    "\n",
    "print(\"Your BMI is:\", BMI)\n",
    "\n",
    "if BMI > 0:\n",
    "    if(BMI < 18.5):\n",
    "        print(name + \", you are underweight.\")\n",
    "    elif(BMI <= 24.9):\n",
    "        print(name + \", you are a healthy weight.\")\n",
    "    elif(BMI <= 29.9):\n",
    "        print(name + \", you are overweight.\")\n",
    "    elif(BMI > 29.9):\n",
    "        print(name + \", you are obese.\")\n",
    "    else:\n",
    "        print(\"error: Please enter valid input\")"
   ]
  },
  {
   "cell_type": "code",
   "execution_count": null,
   "id": "a6f7a76e",
   "metadata": {},
   "outputs": [],
   "source": []
  }
 ],
 "metadata": {
  "kernelspec": {
   "display_name": "Python 3 (ipykernel)",
   "language": "python",
   "name": "python3"
  },
  "language_info": {
   "codemirror_mode": {
    "name": "ipython",
    "version": 3
   },
   "file_extension": ".py",
   "mimetype": "text/x-python",
   "name": "python",
   "nbconvert_exporter": "python",
   "pygments_lexer": "ipython3",
   "version": "3.11.7"
  }
 },
 "nbformat": 4,
 "nbformat_minor": 5
}
